{
 "cells": [
  {
   "cell_type": "code",
   "execution_count": 1,
   "metadata": {},
   "outputs": [],
   "source": [
    "from btypes import *\n",
    "from copy import deepcopy\n",
    "import random\n",
    "from dataclasses import dataclass\n",
    "from typing import List, Dict, Tuple, Mapping, Set\n",
    "from algorithm import draw_graph"
   ]
  },
  {
   "cell_type": "code",
   "execution_count": 2,
   "metadata": {},
   "outputs": [],
   "source": [
    "def algorithm(G: Graph, u: Node, v:Node):\n",
    "    v_node = G.nodes_obj[v]\n",
    "    u_node = G.nodes_obj[u]\n",
    "    v_neighbors = [\n",
    "        Edge(\n",
    "            from_node=x.label, \n",
    "            to_node=v_node.label,\n",
    "            expected_delay=expected,\n",
    "            worst_case_delay=worst\n",
    "        ) for x, (expected, worst) in v_node.in_going.items() if x.label != u\n",
    "    ] # technically, unnecessary. Might remove it in the future\n",
    "    n = len(G.nodes_obj)\n",
    "    u_node.clean(v_neighbors, v, v)\n",
    "    for _ in range(n):\n",
    "        v_node.propogate(v_neighbors, v, []) # passing v to propogate does nothing to v_node."
   ]
  },
  {
   "cell_type": "code",
   "execution_count": 3,
   "metadata": {},
   "outputs": [],
   "source": [
    "def test_algorithm(name: str, graph: Graph, destination: Node, edge: Tuple[Node, Node], change: Tuple[int, int]):\n",
    "    old_tables = original_baruah(graph, destination, True)\n",
    "    (u, v) = edge\n",
    "    old_edges = deepcopy(graph.data)\n",
    "    graph.modify_edge(u, v, change)\n",
    "    algorithm(graph, u, v)\n",
    "    new_tables = original_baruah(graph, destination, True)\n",
    "    expected_changes = difference_tables(old_tables, new_tables)\n",
    "    actual_tables = construct_tables(graph)\n",
    "    actual_changes = difference_tables(old_tables, actual_tables)\n",
    "\n",
    "    # print(f\"--- {name} ---\");\n",
    "    # print()\n",
    "\n",
    "    show_debug = False\n",
    "\n",
    "    if actual_changes != expected_changes:\n",
    "        print(\"FAIL\")\n",
    "        fail = difference_tables(new_tables, actual_tables)\n",
    "        print_tables(fail)\n",
    "        print(f\"graph: {old_edges}\")\n",
    "        print(f\"edge: {edge}\")\n",
    "        print(f\"new weight: {change}\")\n",
    "        print(\"result: \")\n",
    "        print_tables(actual_tables)\n",
    "        print(\"expected: \")\n",
    "        print_tables(new_tables)\n",
    "        print(\"old tables: \")\n",
    "        print_tables(old_tables)\n",
    "        return 0\n",
    "    return 1"
   ]
  },
  {
   "cell_type": "code",
   "execution_count": 4,
   "metadata": {},
   "outputs": [],
   "source": [
    "def random_test(num_tests=1000, min_nodes=5, max_nodes=15, max_delay=20):\n",
    "    passes = 0\n",
    "    def random_delay():\n",
    "        typical = random.randint(1, max_delay-1)\n",
    "        return (typical, random.randint(typical + 1, max_delay))\n",
    "\n",
    "    for i in range(1, num_tests + 1):\n",
    "        nodes = [x for x in range(random.randint(min_nodes, max_nodes))] # create the nodes\n",
    "        graph = dict((x, {y: random_delay()}) for x, y in zip(nodes, nodes[1:])) # turn the path into a dictionary\n",
    "        n = len(nodes) # get the number of nodes\n",
    "        biggest_node = n - 1\n",
    "        graph[biggest_node] = {} # the last edge does not go anywhere afterwards\n",
    "\n",
    "        for x in range(random.randint(0, n*(n-1))): # create a random number of edges. n(n-1) is the maximum number of edges\n",
    "            from_node = random.randint(0, biggest_node)\n",
    "            to_node = random.randint(0, biggest_node)\n",
    "            while to_node == from_node: # makes sure that the to node and the from node are not the same\n",
    "                to_node = random.randint(0, biggest_node)\n",
    "            graph[from_node][to_node] = random_delay() # currently has an issue of accidentally overriding previous edges. But oh well.\n",
    "            # graph[to_node].pop(from_node, None)\n",
    "        g = Graph(graph)\n",
    "        g.init_tables(biggest_node)\n",
    "        from_node = random.randint(0,biggest_node) # select a random node\n",
    "        while len(graph[from_node].keys()) == 0: # make sure that the node has out going edges. (might not always be the case that the node has outgoing edges)\n",
    "            from_node = random.randint(0,biggest_node) # select a random node\n",
    "        to_node = random.choice(list(graph[from_node].keys())) # select one of its edges\n",
    "        edge = g.edge(from_node, to_node)\n",
    "        new_delay = random.randint(1, edge.worst_case_delay)\n",
    "        passes += test_algorithm(f\"test {i}\", g, biggest_node, (from_node, to_node), (new_delay, edge.worst_case_delay))\n",
    "        print(f\"{i - passes}/{i:,}\", end=\"\\r\")\n",
    "    return passes\n"
   ]
  },
  {
   "cell_type": "markdown",
   "metadata": {},
   "source": [
    "# Does not work with single propogation"
   ]
  },
  {
   "cell_type": "code",
   "execution_count": 5,
   "metadata": {},
   "outputs": [
    {
     "data": {
      "text/plain": [
       "1"
      ]
     },
     "execution_count": 5,
     "metadata": {},
     "output_type": "execute_result"
    }
   ],
   "source": [
    "G = Graph({\n",
    "    0: {1: (2, 18)},\n",
    "    1: {0:(1, 8), 2: (3, 18)},\n",
    "    2: {},\n",
    "})\n",
    "G.init_tables(2)\n",
    "test_algorithm(\"test\", G, 2, (1, 2), (11, 18))"
   ]
  },
  {
   "cell_type": "markdown",
   "metadata": {},
   "source": [
    "# Does not work with clean function with v-neighbors trimming"
   ]
  },
  {
   "cell_type": "code",
   "execution_count": 8,
   "metadata": {},
   "outputs": [
    {
     "name": "stdout",
     "output_type": "stream",
     "text": [
      "FAIL\n",
      "0 removed: set(), added: set()\n",
      "1 removed: set(), added: set()\n",
      "2 removed: {Entry: 57 1 33}, added: {Entry: 56 1 33}\n",
      "3 removed: set(), added: set()\n",
      "4 removed: set(), added: set()\n",
      "graph: {0: {4: (10, 11), 3: (6, 14)}, 1: {2: (7, 14)}, 2: {1: (13, 18), 0: (5, 11)}, 3: {4: (2, 18), 0: (2, 6)}, 4: {}}\n",
      "edge: (2, 3)\n",
      "new weight: (13, 14)\n",
      "result: \n",
      "0 [Entry: 31 3 8, Entry: 11 4 10]\n",
      "1 [Entry: 43 2 20, Entry: 36 2 22]\n",
      "2 [Entry: 36 0 13, Entry: 22 0 15, Entry: 31 3 15, Entry: 56 1 33, Entry: 54 1 35]\n",
      "3 [Entry: 18 4 2, Entry: 33 0 10, Entry: 17 0 12]\n",
      "4 [Entry: 0 None 0]\n",
      "expected: \n",
      "0 [Entry: 31 3 8, Entry: 11 4 10]\n",
      "1 [Entry: 43 2 20, Entry: 36 2 22]\n",
      "2 [Entry: 36 0 13, Entry: 57 1 33, Entry: 31 3 15, Entry: 22 0 15, Entry: 54 1 35]\n",
      "3 [Entry: 18 4 2, Entry: 33 0 10, Entry: 17 0 12]\n",
      "4 [Entry: 0 None 0]\n",
      "old tables: \n",
      "0 [Entry: 31 3 8, Entry: 11 4 10]\n",
      "1 [Entry: 43 2 20, Entry: 36 2 22]\n",
      "2 [Entry: 36 0 13, Entry: 57 1 33, Entry: 22 0 15, Entry: 54 1 35]\n",
      "3 [Entry: 18 4 2, Entry: 33 0 10, Entry: 17 0 12]\n",
      "4 [Entry: 0 None 0]\n"
     ]
    },
    {
     "data": {
      "text/plain": [
       "0"
      ]
     },
     "execution_count": 8,
     "metadata": {},
     "output_type": "execute_result"
    }
   ],
   "source": [
    "G = Graph({\n",
    "    0: {4: (10, 11), 3: (6, 14)}, \n",
    "    1: {2: (7, 14)}, \n",
    "    2: {1: (13, 18), 0: (5, 11)}, \n",
    "    3: {4: (2, 18), 0: (2, 6)}, # Note, adding an edge to 1 adds more errors everywere\n",
    "    4: {}\n",
    "})\n",
    "G.init_tables(4)\n",
    "test_algorithm(\"test\", G, 4, (2, 3), (13, 14))"
   ]
  },
  {
   "cell_type": "code",
   "execution_count": 12,
   "metadata": {},
   "outputs": [
    {
     "data": {
      "image/png": "[encoded data removed]",
      "text/plain": [
       "<Figure size 640x480 with 1 Axes>"
      ]
     },
     "metadata": {},
     "output_type": "display_data"
    }
   ],
   "source": [
    "draw_graph(G)"
   ]
  },
  {
   "cell_type": "code",
   "execution_count": 106,
   "metadata": {},
   "outputs": [
    {
     "name": "stdout",
     "output_type": "stream",
     "text": [
      "FAIL\n",
      "0 removed: {Entry: 57 1 33}, added: {Entry: 56 1 33}\n",
      "1 removed: set(), added: set()\n",
      "2 removed: {Entry: 57 1 33}, added: {Entry: 56 1 33}\n",
      "3 removed: {Entry: 56 1 32}, added: {Entry: 55 1 32}\n",
      "4 removed: set(), added: set()\n",
      "graph: {0: {4: (10, 11), 3: (6, 14), 1: (13, 14)}, 1: {2: (7, 14)}, 2: {1: (13, 18), 0: (5, 11)}, 3: {4: (2, 18), 1: (12, 15), 0: (2, 6)}, 4: {}}\n",
      "edge: (2, 3)\n",
      "new weight: (13, 14)\n",
      "result: \n",
      "0 [Entry: 31 3 8, Entry: 11 4 10, Entry: 56 1 33, Entry: 50 1 35]\n",
      "1 [Entry: 43 2 20, Entry: 36 2 22]\n",
      "2 [Entry: 31 3 15, Entry: 36 0 13, Entry: 22 0 15, Entry: 56 1 33, Entry: 54 1 35]\n",
      "3 [Entry: 18 4 2, Entry: 33 0 10, Entry: 17 0 12, Entry: 55 1 32, Entry: 51 1 34]\n",
      "4 [Entry: 0 None 0]\n",
      "expected: \n",
      "0 [Entry: 57 1 33, Entry: 31 3 8, Entry: 50 1 35, Entry: 11 4 10]\n",
      "1 [Entry: 43 2 20, Entry: 36 2 22]\n",
      "2 [Entry: 36 0 13, Entry: 57 1 33, Entry: 31 3 15, Entry: 22 0 15, Entry: 54 1 35]\n",
      "3 [Entry: 18 4 2, Entry: 51 1 34, Entry: 33 0 10, Entry: 17 0 12, Entry: 56 1 32]\n",
      "4 [Entry: 0 None 0]\n",
      "old tables: \n",
      "0 [Entry: 57 1 33, Entry: 31 3 8, Entry: 50 1 35, Entry: 11 4 10]\n",
      "1 [Entry: 43 2 20, Entry: 36 2 22]\n",
      "2 [Entry: 36 0 13, Entry: 57 1 33, Entry: 22 0 15, Entry: 54 1 35]\n",
      "3 [Entry: 18 4 2, Entry: 51 1 34, Entry: 33 0 10, Entry: 17 0 12, Entry: 56 1 32]\n",
      "4 [Entry: 0 None 0]\n"
     ]
    },
    {
     "data": {
      "text/plain": [
       "0"
      ]
     },
     "execution_count": 106,
     "metadata": {},
     "output_type": "execute_result"
    }
   ],
   "source": [
    "G = Graph({\n",
    "    0: {4: (10, 11), 3: (6, 14), 1:(13, 14)}, \n",
    "    1: {2: (7, 14)}, \n",
    "    2: {1: (13, 18), 0: (5, 11)}, \n",
    "    3: {4: (2, 18), 1: (12, 15), 0: (2, 6)}, \n",
    "    4: {}\n",
    "})\n",
    "G.init_tables(4)\n",
    "test_algorithm(\"test\", G, 4, (2, 3), (13, 14))"
   ]
  },
  {
   "cell_type": "markdown",
   "metadata": {},
   "source": [
    "# Does not work with n - 1"
   ]
  },
  {
   "cell_type": "code",
   "execution_count": 12,
   "metadata": {},
   "outputs": [
    {
     "data": {
      "text/plain": [
       "1"
      ]
     },
     "execution_count": 12,
     "metadata": {},
     "output_type": "execute_result"
    }
   ],
   "source": [
    "G = Graph({\n",
    "    0: {1:(19, 20)},\n",
    "    1: {2:(1, 15), 0:(2, 19)},\n",
    "    2: {3:(15, 16), 1:(11, 12)},\n",
    "    3: {4:(5, 11), 2:(9, 14)},\n",
    "    4: {3:(17, 18)}\n",
    "})\n",
    "G.init_tables(4)\n",
    "test_algorithm(\"test\", G, 4, (1, 0), (1, 19))"
   ]
  },
  {
   "cell_type": "markdown",
   "metadata": {},
   "source": [
    "# Does not work with n propogations and no cleaning"
   ]
  },
  {
   "cell_type": "code",
   "execution_count": 21,
   "metadata": {},
   "outputs": [
    {
     "data": {
      "text/plain": [
       "1"
      ]
     },
     "execution_count": 21,
     "metadata": {},
     "output_type": "execute_result"
    }
   ],
   "source": [
    "G = Graph({\n",
    "    0: {3:(18, 19), 2:(13, 14), 1:(19, 20)},\n",
    "    1: {2:(1, 19)},\n",
    "    2: {1:(1, 3), 3:(1, 20)},\n",
    "    3: {4:(11, 20)},\n",
    "    4: {2:(17, 19), 0:(6, 19)}\n",
    "})\n",
    "G.init_tables(4)\n",
    "test_algorithm(\"test\", G, 4, (2, 3), (20, 204))"
   ]
  },
  {
   "cell_type": "code",
   "execution_count": 26,
   "metadata": {},
   "outputs": [
    {
     "name": "stdout",
     "output_type": "stream",
     "text": [
      "score: 1000000/1000000\n"
     ]
    }
   ],
   "source": [
    "num_tests = 1_000_000\n",
    "result = random_test(num_tests=num_tests, min_nodes=3, max_nodes=3)\n",
    "print(f\"score: {result}/{num_tests}\")"
   ]
  },
  {
   "cell_type": "markdown",
   "metadata": {},
   "source": [
    "# Does not work with v neighbor trimming and no cleaning"
   ]
  },
  {
   "cell_type": "code",
   "execution_count": 22,
   "metadata": {},
   "outputs": [
    {
     "data": {
      "text/plain": [
       "1"
      ]
     },
     "execution_count": 22,
     "metadata": {},
     "output_type": "execute_result"
    }
   ],
   "source": [
    "G = Graph({\n",
    "    0: {1:(6, 16), 3:(1, 10)},\n",
    "    1: {2:(17 ,20)},\n",
    "    2: {3:(19, 20), 4:(10, 11)},\n",
    "    3: {4:(2, 18), 0:(1, 13)},\n",
    "    4: {}\n",
    "})\n",
    "G.init_tables(4)\n",
    "test_algorithm(\"test\", G, 4, (3, 4), (18, 18))"
   ]
  },
  {
   "cell_type": "markdown",
   "metadata": {},
   "source": [
    "# Does not work with cleaning + single propogation"
   ]
  },
  {
   "cell_type": "code",
   "execution_count": 23,
   "metadata": {},
   "outputs": [
    {
     "data": {
      "text/plain": [
       "1"
      ]
     },
     "execution_count": 23,
     "metadata": {},
     "output_type": "execute_result"
    }
   ],
   "source": [
    "G = Graph({\n",
    "    0: {1: (2, 19)},\n",
    "    1: {2:(15, 18)},\n",
    "    2: {0: (12, 16)},\n",
    "})\n",
    "G.init_tables(2)\n",
    "test_algorithm(\"test\", G, 2, (0, 1), (8, 19))"
   ]
  },
  {
   "cell_type": "code",
   "execution_count": 24,
   "metadata": {},
   "outputs": [
    {
     "data": {
      "text/plain": [
       "1"
      ]
     },
     "execution_count": 24,
     "metadata": {},
     "output_type": "execute_result"
    }
   ],
   "source": [
    "G = Graph({\n",
    "    0: {1: (8, 14)}, \n",
    "    1: {2: (1, 4), 0: (15, 19)}, \n",
    "    2: {3: (15, 17)}, \n",
    "    3: {4: (11, 13), 0: (3, 13)}, \n",
    "    4: {0: (17, 19)}\n",
    "})\n",
    "G.init_tables(4)\n",
    "test_algorithm(\"test\", G, 4, (1, 2), (2, 4))"
   ]
  }
 ],
 "metadata": {
  "kernelspec": {
   "display_name": "Python 3",
   "language": "python",
   "name": "python3"
  },
  "language_info": {
   "codemirror_mode": {
    "name": "ipython",
    "version": 3
   },
   "file_extension": ".py",
   "mimetype": "text/x-python",
   "name": "python",
   "nbconvert_exporter": "python",
   "pygments_lexer": "ipython3",
   "version": "3.11.7"
  }
 },
 "nbformat": 4,
 "nbformat_minor": 2
}
