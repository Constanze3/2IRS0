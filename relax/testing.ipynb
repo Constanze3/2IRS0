{
 "cells": [
  {
   "cell_type": "code",
   "execution_count": 1,
   "metadata": {},
   "outputs": [],
   "source": [
    "from btypes import *\n",
    "from copy import deepcopy\n",
    "import random\n",
    "from dataclasses import dataclass\n",
    "from typing import List, Dict, Tuple, Mapping, Set"
   ]
  },
  {
   "cell_type": "code",
   "execution_count": 2,
   "metadata": {},
   "outputs": [],
   "source": [
    "G = Graph({\n",
    "    1: {2: (4, 10), 4: (15, 25)},\n",
    "    2: {3: (4, 10), 4: (12, 15)},\n",
    "    3: {4: (4, 10)},\n",
    "    4: {}\n",
    "})"
   ]
  },
  {
   "cell_type": "code",
   "execution_count": 3,
   "metadata": {},
   "outputs": [
    {
     "name": "stdout",
     "output_type": "stream",
     "text": [
      "[Entry: 25 2 12, Entry: 25 4 15]\n",
      "[Entry: 15 4 12, Entry: 20 3 8]\n",
      "[Entry: 10 4 4]\n",
      "[Entry: 0 None 0]\n"
     ]
    }
   ],
   "source": [
    "destination = 4\n",
    "\n",
    "G.init_tables(destination)\n",
    "old_tables = original_baruah(G, destination, True)\n",
    "for x, entries in old_tables.items():\n",
    "    print(entries)"
   ]
  },
  {
   "cell_type": "code",
   "execution_count": 4,
   "metadata": {},
   "outputs": [],
   "source": [
    "u = 1\n",
    "v = 2\n",
    "new_delay = (6, 10)\n",
    "\n",
    "G.modify_edge(u, v, new_delay)"
   ]
  },
  {
   "cell_type": "code",
   "execution_count": 5,
   "metadata": {},
   "outputs": [],
   "source": [
    "v_node = G.nodes_obj[v]\n",
    "v_node.propogate([], u, [])"
   ]
  },
  {
   "cell_type": "code",
   "execution_count": 6,
   "metadata": {},
   "outputs": [
    {
     "name": "stdout",
     "output_type": "stream",
     "text": [
      "[Entry: 25 4 15, Entry: 25 2 18, Entry: 26 2 14]\n",
      "[Entry: 15 4 12, Entry: 20 3 8]\n",
      "[Entry: 10 4 4]\n",
      "[Entry: 0 None 0]\n"
     ]
    }
   ],
   "source": [
    "for x, node in G.nodes_obj.items():\n",
    "    print(node.routing_table)"
   ]
  },
  {
   "cell_type": "code",
   "execution_count": 7,
   "metadata": {},
   "outputs": [
    {
     "name": "stdout",
     "output_type": "stream",
     "text": [
      "[Entry: 26 2 14, Entry: 25 2 18, Entry: 25 4 15]\n",
      "[Entry: 15 4 12, Entry: 20 3 8]\n",
      "[Entry: 10 4 4]\n",
      "[Entry: 0 None 0]\n"
     ]
    }
   ],
   "source": [
    "new_tables = original_baruah(G, destination, True)\n",
    "for x, entries in new_tables.items():\n",
    "    print(entries)"
   ]
  },
  {
   "cell_type": "code",
   "execution_count": 8,
   "metadata": {},
   "outputs": [
    {
     "data": {
      "text/plain": [
       "{Edge(from_node=1, to_node=4, expected_delay=15, worst_case_delay=25),\n",
       " Edge(from_node=1, to_node=2, expected_delay=6, worst_case_delay=10),\n",
       " Edge(from_node=2, to_node=4, expected_delay=12, worst_case_delay=15),\n",
       " Edge(from_node=2, to_node=3, expected_delay=4, worst_case_delay=10),\n",
       " Edge(from_node=3, to_node=4, expected_delay=4, worst_case_delay=10)}"
      ]
     },
     "execution_count": 8,
     "metadata": {},
     "output_type": "execute_result"
    }
   ],
   "source": [
    "G.edges()"
   ]
  },
  {
   "cell_type": "code",
   "execution_count": 9,
   "metadata": {},
   "outputs": [],
   "source": [
    "def construct_tables(graph) -> Tables:\n",
    "    return dict((node, node_obj.routing_table) for node, node_obj in graph.nodes_obj.items())\n",
    "\n",
    "def difference(old_table: Table, new_table: Table) -> TableDiff:\n",
    "    \"\"\"\n",
    "    Finds for each table the difference between old and new table.\n",
    "\n",
    "    It returns for a table what are entries that were removed and what are entreis\n",
    "    that were added to the old table to get to the new table.\n",
    "    \"\"\"\n",
    "\n",
    "    old_entries = sorted(old_table.entries)\n",
    "    new_entries = sorted(new_table.entries)\n",
    "\n",
    "    # entries in old table that were removed to get to the new table\n",
    "    removed: Set[Entry] = set()\n",
    "    # entries in new table that were an addition to the entries of old table\n",
    "    added: Set[Entry] = set()\n",
    "\n",
    "    index_old = 0\n",
    "    index_new = 0\n",
    "\n",
    "    while(True):\n",
    "        if len(old_entries) <= index_old and len(new_entries) <= index_new:\n",
    "            # no more entries to consider\n",
    "            break\n",
    "\n",
    "        if len(old_entries) <= index_old:\n",
    "            entry_new = new_entries[index_new]\n",
    "            # entry_new only exists in the new table -> it was added\n",
    "            added.add(entry_new)\n",
    "            index_new += 1\n",
    "            continue\n",
    "\n",
    "        if len(new_entries) <= index_new:\n",
    "            entry_old = old_entries[index_old]\n",
    "            # entry_old only exist in the old table -> it was removed\n",
    "            removed.add(entry_old)\n",
    "            index_old += 1\n",
    "            continue\n",
    "        \n",
    "        # at this point: index_old < len(old_table) and index_new < len(new_table) \n",
    "\n",
    "        entry_old = old_entries[index_old]\n",
    "        entry_new = new_entries[index_new]\n",
    "\n",
    "        if entry_old == entry_new:\n",
    "            # entry exists in both tables -> not a change\n",
    "            index_new += 1\n",
    "            index_old += 1\n",
    "            continue\n",
    "\n",
    "        if entry_old < entry_new:\n",
    "            # entry_old was \"skipped over\" in new table, the table is sorted -> the new table doesn't contain it -> it was removed\n",
    "            removed.add(entry_old)\n",
    "            index_old += 1\n",
    "            continue\n",
    "        \n",
    "        if entry_new < entry_old:\n",
    "            # entry_new was \"skipped over\" in old table, the table is sorted -> the old table doesn't contain it -> it was added\n",
    "            added.add(entry_new)\n",
    "            index_new += 1\n",
    "            continue\n",
    "    \n",
    "    return TableDiff(removed, added)\n",
    "\n",
    "def difference_tables(old_tables: Tables, new_tables: Tables)-> Dict[Node, TableDiff]:\n",
    "    \"\"\"\n",
    "    Return a map, for each node return the difference.\n",
    "    \"\"\"\n",
    "    output_differences = {}\n",
    "    for (u, old_table) in old_tables.items(): \n",
    "        output_differences[u] = difference(old_table, new_tables[u])\n",
    "    return output_differences\n"
   ]
  },
  {
   "cell_type": "code",
   "execution_count": 10,
   "metadata": {},
   "outputs": [],
   "source": [
    "expected_changes = difference_tables(old_tables, new_tables)\n",
    "actual_changes = difference_tables(old_tables, construct_tables(G))"
   ]
  },
  {
   "cell_type": "code",
   "execution_count": 11,
   "metadata": {},
   "outputs": [
    {
     "name": "stdout",
     "output_type": "stream",
     "text": [
      "True\n"
     ]
    }
   ],
   "source": [
    "print(expected_changes == actual_changes)"
   ]
  },
  {
   "cell_type": "code",
   "execution_count": 72,
   "metadata": {},
   "outputs": [],
   "source": [
    "def print_tables(tables: Tables):\n",
    "    for x, y in tables.items():\n",
    "        print(x, y)"
   ]
  },
  {
   "cell_type": "code",
   "execution_count": 81,
   "metadata": {},
   "outputs": [],
   "source": [
    "def algorithm(G: Graph, u: Node, v:Node):\n",
    "    v_node = G.nodes_obj[v]\n",
    "    v_neighbors = [Edge(\n",
    "        from_node=x.label, \n",
    "        to_node=v_node.label,\n",
    "        expected_delay=expected,\n",
    "        worst_case_delay=worst\n",
    "        ) for x, (expected, worst) in v_node.in_going.items() if x.label != u\n",
    "    ]\n",
    "    n = len(G.nodes_obj)\n",
    "    v_node.clean(v_neighbors, v)\n",
    "    for _ in range(n):\n",
    "        v_node.propogate(v_neighbors, v, [])"
   ]
  },
  {
   "cell_type": "code",
   "execution_count": 68,
   "metadata": {},
   "outputs": [],
   "source": [
    "def test_algorithm(name: str, graph: Graph, destination: Node, edge: Tuple[Node, Node], change: Tuple[int, int]):\n",
    "    old_tables = original_baruah(graph, destination, True)\n",
    "    (u, v) = edge\n",
    "    old_edges = deepcopy(graph.edges())\n",
    "    graph.modify_edge(u, v, change)\n",
    "    algorithm(graph, u, v)\n",
    "    new_tables = original_baruah(graph, destination, True)\n",
    "    expected_changes = difference_tables(old_tables, new_tables)\n",
    "    actual_tables = construct_tables(graph)\n",
    "    actual_changes = difference_tables(old_tables, actual_tables)\n",
    "\n",
    "    # print(f\"--- {name} ---\");\n",
    "    # print()\n",
    "\n",
    "    show_debug = False\n",
    "\n",
    "    if actual_changes != expected_changes:\n",
    "        print(\"FAIL\")\n",
    "        print(actual_changes)\n",
    "        print(expected_changes)\n",
    "        print(old_edges)\n",
    "        print(edge)\n",
    "        print(change)\n",
    "        print(\"result: \")\n",
    "        print_tables(actual_tables)\n",
    "        print(\"expected: \")\n",
    "        print_tables(new_tables)\n",
    "        print(\"old tables: \")\n",
    "        print_tables(old_tables)\n",
    "        return 0\n",
    "    return 1"
   ]
  },
  {
   "cell_type": "code",
   "execution_count": 14,
   "metadata": {},
   "outputs": [
    {
     "data": {
      "text/plain": [
       "1"
      ]
     },
     "execution_count": 14,
     "metadata": {},
     "output_type": "execute_result"
    }
   ],
   "source": [
    "test_algorithm(\"test\", G, 4, (2, 3), (10, 10))"
   ]
  },
  {
   "cell_type": "code",
   "execution_count": 15,
   "metadata": {},
   "outputs": [],
   "source": [
    "def random_test(num_tests=1000, min_nodes=5, max_nodes=15, max_delay=20):\n",
    "    passes = 0\n",
    "    def random_delay():\n",
    "        typical = random.randint(1, max_delay-1)\n",
    "        return (typical, random.randint(typical + 1, max_delay))\n",
    "\n",
    "    for i in range(num_tests):\n",
    "        nodes = [x for x in range(random.randint(min_nodes, max_nodes))] # create the nodes\n",
    "        graph = dict((x, {y: random_delay()}) for x, y in zip(nodes, nodes[1:])) # turn the path into a dictionary\n",
    "        n = len(nodes) # get the number of nodes\n",
    "        biggest_node = n - 1\n",
    "        graph[biggest_node] = {} # the last edge does not go anywhere afterwards\n",
    "\n",
    "        for x in range(random.randint(0, n*(n-1))): # create a random number of edges. n(n-1) is the maximum number of edges\n",
    "            from_node = random.randint(0, biggest_node)\n",
    "            to_node = random.randint(0, biggest_node)\n",
    "            while to_node == from_node: # makes sure that the to node and the from node are not the same\n",
    "                to_node = random.randint(0, biggest_node)\n",
    "            graph[from_node][to_node] = random_delay() # currently has an issue of accidentally overriding previous edges. But oh well.\n",
    "            # graph[to_node].pop(from_node, None)\n",
    "        g = Graph(graph)\n",
    "        g.init_tables(biggest_node)\n",
    "        from_node = random.randint(0,biggest_node) # select a random node\n",
    "        while len(graph[from_node].keys()) == 0: # make sure that the node has out going edges. (might not always be the case that the node has outgoing edges)\n",
    "            from_node = random.randint(0,biggest_node) # select a random node\n",
    "        to_node = random.choice(list(graph[from_node].keys())) # select one of its edges\n",
    "        edge = g.edge(from_node, to_node)\n",
    "        new_delay = random.randint(1, edge.worst_case_delay)\n",
    "        passes += test_algorithm(f\"test {i}\", g, biggest_node, (from_node, to_node), (new_delay, edge.worst_case_delay))\n",
    "        print(f\"{passes}/{i + 1}\", end=\"\\r\")\n",
    "    return passes\n"
   ]
  },
  {
   "cell_type": "code",
   "execution_count": 16,
   "metadata": {},
   "outputs": [
    {
     "data": {
      "text/plain": [
       "1"
      ]
     },
     "execution_count": 16,
     "metadata": {},
     "output_type": "execute_result"
    }
   ],
   "source": [
    "G = Graph({\n",
    "    0: {1: (2, 18)},\n",
    "    1: {0:(1, 8), 2: (3, 18)},\n",
    "    2: {},\n",
    "})\n",
    "G.init_tables(2)\n",
    "test_algorithm(\"test\", G, 2, (1, 2), (11, 18))"
   ]
  },
  {
   "cell_type": "code",
   "execution_count": 84,
   "metadata": {},
   "outputs": [
    {
     "name": "stdout",
     "output_type": "stream",
     "text": [
      "score: 1000000/1000000\n"
     ]
    }
   ],
   "source": [
    "num_tests = 1_000_000\n",
    "result = random_test(num_tests=num_tests, min_nodes=3, max_nodes=3)\n",
    "print(f\"score: {result}/{num_tests}\")"
   ]
  },
  {
   "cell_type": "code",
   "execution_count": 17,
   "metadata": {},
   "outputs": [
    {
     "data": {
      "text/plain": [
       "1"
      ]
     },
     "execution_count": 17,
     "metadata": {},
     "output_type": "execute_result"
    }
   ],
   "source": [
    "G = Graph({\n",
    "    0: {1: (2, 18)},\n",
    "    1: {0:(1, 8), 2: (3, 18)},\n",
    "    2: {},\n",
    "})\n",
    "G.init_tables(2)\n",
    "test_algorithm(\"test\", G, 2, (1, 2), (11, 18))"
   ]
  },
  {
   "cell_type": "code",
   "execution_count": 64,
   "metadata": {},
   "outputs": [
    {
     "name": "stdout",
     "output_type": "stream",
     "text": [
      "0 []\n",
      "1 [Entry: 18 2 3]\n",
      "2 [Entry: 0 None 0]\n"
     ]
    },
    {
     "data": {
      "text/plain": [
       "1"
      ]
     },
     "execution_count": 64,
     "metadata": {},
     "output_type": "execute_result"
    }
   ],
   "source": [
    "G = Graph({\n",
    "    0: {1: (2, 18)},\n",
    "    1: {0:(1, 8), 2: (3, 18)},\n",
    "    2: {},\n",
    "})\n",
    "G.init_tables(2)\n",
    "test_algorithm(\"test\", G, 2, (0, 1), (11, 18))"
   ]
  },
  {
   "cell_type": "code",
   "execution_count": 79,
   "metadata": {},
   "outputs": [
    {
     "name": "stdout",
     "output_type": "stream",
     "text": [
      "[]\n",
      "0 []\n",
      "1 []\n",
      "2 [Entry: 0 None 0]\n",
      "FAIL\n",
      "{0: removed: {Entry: 37 1 17}, added: set(), 1: removed: set(), added: set(), 2: removed: set(), added: set()}\n",
      "{0: removed: {Entry: 37 1 17}, added: {Entry: 37 1 23}, 1: removed: set(), added: set(), 2: removed: set(), added: set()}\n",
      "{Edge(from_node=2, to_node=0, expected_delay=12, worst_case_delay=16), Edge(from_node=1, to_node=2, expected_delay=15, worst_case_delay=18), Edge(from_node=0, to_node=1, expected_delay=2, worst_case_delay=19)}\n",
      "(0, 1)\n",
      "(8, 19)\n",
      "result: \n",
      "0 []\n",
      "1 [Entry: 18 2 15]\n",
      "2 [Entry: 0 None 0]\n",
      "expected: \n",
      "0 [Entry: 37 1 23]\n",
      "1 [Entry: 18 2 15]\n",
      "2 [Entry: 0 None 0]\n",
      "old tables: \n",
      "0 [Entry: 37 1 17]\n",
      "1 [Entry: 18 2 15]\n",
      "2 [Entry: 0 None 0]\n"
     ]
    },
    {
     "data": {
      "text/plain": [
       "0"
      ]
     },
     "execution_count": 79,
     "metadata": {},
     "output_type": "execute_result"
    }
   ],
   "source": [
    "G = Graph({\n",
    "    0: {1: (2, 19)},\n",
    "    1: {2:(15, 18)},\n",
    "    2: {0: (12, 16)},\n",
    "})\n",
    "G.init_tables(2)\n",
    "test_algorithm(\"test\", G, 2, (0, 1), (8, 19))"
   ]
  }
 ],
 "metadata": {
  "kernelspec": {
   "display_name": "Python 3",
   "language": "python",
   "name": "python3"
  },
  "language_info": {
   "codemirror_mode": {
    "name": "ipython",
    "version": 3
   },
   "file_extension": ".py",
   "mimetype": "text/x-python",
   "name": "python",
   "nbconvert_exporter": "python",
   "pygments_lexer": "ipython3",
   "version": "3.11.7"
  }
 },
 "nbformat": 4,
 "nbformat_minor": 2
}
