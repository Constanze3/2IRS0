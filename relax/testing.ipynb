{
 "cells": [
  {
   "cell_type": "code",
   "execution_count": 34,
   "metadata": {},
   "outputs": [],
   "source": [
    "from btypes import *\n",
    "from copy import deepcopy\n",
    "import random\n",
    "from dataclasses import dataclass\n",
    "from typing import List, Dict, Tuple, Mapping, Set\n",
    "from algorithm import draw_graph"
   ]
  },
  {
   "cell_type": "code",
   "execution_count": 2,
   "metadata": {},
   "outputs": [],
   "source": [
    "G = Graph({\n",
    "    1: {2: (4, 10), 4: (15, 25)},\n",
    "    2: {3: (4, 10), 4: (12, 15)},\n",
    "    3: {4: (4, 10)},\n",
    "    4: {}\n",
    "})"
   ]
  },
  {
   "cell_type": "code",
   "execution_count": 3,
   "metadata": {},
   "outputs": [
    {
     "name": "stdout",
     "output_type": "stream",
     "text": [
      "[Entry: 25 2 12, Entry: 25 4 15]\n",
      "[Entry: 15 4 12, Entry: 20 3 8]\n",
      "[Entry: 10 4 4]\n",
      "[Entry: 0 None 0]\n"
     ]
    }
   ],
   "source": [
    "destination = 4\n",
    "\n",
    "G.init_tables(destination)\n",
    "old_tables = original_baruah(G, destination, True)\n",
    "for x, entries in old_tables.items():\n",
    "    print(entries)"
   ]
  },
  {
   "cell_type": "code",
   "execution_count": 4,
   "metadata": {},
   "outputs": [],
   "source": [
    "u = 1\n",
    "v = 2\n",
    "new_delay = (6, 10)\n",
    "\n",
    "G.modify_edge(u, v, new_delay)"
   ]
  },
  {
   "cell_type": "code",
   "execution_count": 5,
   "metadata": {},
   "outputs": [],
   "source": [
    "v_node = G.nodes_obj[v]\n",
    "v_node.propogate([], u, [])"
   ]
  },
  {
   "cell_type": "code",
   "execution_count": 6,
   "metadata": {},
   "outputs": [
    {
     "name": "stdout",
     "output_type": "stream",
     "text": [
      "[Entry: 25 4 15, Entry: 25 2 18, Entry: 26 2 14]\n",
      "[Entry: 15 4 12, Entry: 20 3 8]\n",
      "[Entry: 10 4 4]\n",
      "[Entry: 0 None 0]\n"
     ]
    }
   ],
   "source": [
    "for x, node in G.nodes_obj.items():\n",
    "    print(node.routing_table)"
   ]
  },
  {
   "cell_type": "code",
   "execution_count": 7,
   "metadata": {},
   "outputs": [
    {
     "name": "stdout",
     "output_type": "stream",
     "text": [
      "[Entry: 26 2 14, Entry: 25 2 18, Entry: 25 4 15]\n",
      "[Entry: 15 4 12, Entry: 20 3 8]\n",
      "[Entry: 10 4 4]\n",
      "[Entry: 0 None 0]\n"
     ]
    }
   ],
   "source": [
    "new_tables = original_baruah(G, destination, True)\n",
    "for x, entries in new_tables.items():\n",
    "    print(entries)"
   ]
  },
  {
   "cell_type": "code",
   "execution_count": 8,
   "metadata": {},
   "outputs": [
    {
     "data": {
      "text/plain": [
       "{Edge(from_node=1, to_node=4, expected_delay=15, worst_case_delay=25),\n",
       " Edge(from_node=1, to_node=2, expected_delay=6, worst_case_delay=10),\n",
       " Edge(from_node=2, to_node=4, expected_delay=12, worst_case_delay=15),\n",
       " Edge(from_node=2, to_node=3, expected_delay=4, worst_case_delay=10),\n",
       " Edge(from_node=3, to_node=4, expected_delay=4, worst_case_delay=10)}"
      ]
     },
     "execution_count": 8,
     "metadata": {},
     "output_type": "execute_result"
    }
   ],
   "source": [
    "G.edges()"
   ]
  },
  {
   "cell_type": "code",
   "execution_count": 9,
   "metadata": {},
   "outputs": [],
   "source": [
    "def construct_tables(graph) -> Tables:\n",
    "    return dict((node, node_obj.routing_table) for node, node_obj in graph.nodes_obj.items())\n",
    "\n",
    "def difference(old_table: Table, new_table: Table) -> TableDiff:\n",
    "    \"\"\"\n",
    "    Finds for each table the difference between old and new table.\n",
    "\n",
    "    It returns for a table what are entries that were removed and what are entreis\n",
    "    that were added to the old table to get to the new table.\n",
    "    \"\"\"\n",
    "\n",
    "    old_entries = sorted(old_table.entries)\n",
    "    new_entries = sorted(new_table.entries)\n",
    "\n",
    "    # entries in old table that were removed to get to the new table\n",
    "    removed: Set[Entry] = set()\n",
    "    # entries in new table that were an addition to the entries of old table\n",
    "    added: Set[Entry] = set()\n",
    "\n",
    "    index_old = 0\n",
    "    index_new = 0\n",
    "\n",
    "    while(True):\n",
    "        if len(old_entries) <= index_old and len(new_entries) <= index_new:\n",
    "            # no more entries to consider\n",
    "            break\n",
    "\n",
    "        if len(old_entries) <= index_old:\n",
    "            entry_new = new_entries[index_new]\n",
    "            # entry_new only exists in the new table -> it was added\n",
    "            added.add(entry_new)\n",
    "            index_new += 1\n",
    "            continue\n",
    "\n",
    "        if len(new_entries) <= index_new:\n",
    "            entry_old = old_entries[index_old]\n",
    "            # entry_old only exist in the old table -> it was removed\n",
    "            removed.add(entry_old)\n",
    "            index_old += 1\n",
    "            continue\n",
    "        \n",
    "        # at this point: index_old < len(old_table) and index_new < len(new_table) \n",
    "\n",
    "        entry_old = old_entries[index_old]\n",
    "        entry_new = new_entries[index_new]\n",
    "\n",
    "        if entry_old == entry_new:\n",
    "            # entry exists in both tables -> not a change\n",
    "            index_new += 1\n",
    "            index_old += 1\n",
    "            continue\n",
    "\n",
    "        if entry_old < entry_new:\n",
    "            # entry_old was \"skipped over\" in new table, the table is sorted -> the new table doesn't contain it -> it was removed\n",
    "            removed.add(entry_old)\n",
    "            index_old += 1\n",
    "            continue\n",
    "        \n",
    "        if entry_new < entry_old:\n",
    "            # entry_new was \"skipped over\" in old table, the table is sorted -> the old table doesn't contain it -> it was added\n",
    "            added.add(entry_new)\n",
    "            index_new += 1\n",
    "            continue\n",
    "    \n",
    "    return TableDiff(removed, added)\n",
    "\n",
    "def difference_tables(old_tables: Tables, new_tables: Tables)-> Dict[Node, TableDiff]:\n",
    "    \"\"\"\n",
    "    Return a map, for each node return the difference.\n",
    "    \"\"\"\n",
    "    output_differences = {}\n",
    "    for (u, old_table) in old_tables.items(): \n",
    "        output_differences[u] = difference(old_table, new_tables[u])\n",
    "    return output_differences\n"
   ]
  },
  {
   "cell_type": "code",
   "execution_count": 10,
   "metadata": {},
   "outputs": [],
   "source": [
    "expected_changes = difference_tables(old_tables, new_tables)\n",
    "actual_changes = difference_tables(old_tables, construct_tables(G))"
   ]
  },
  {
   "cell_type": "code",
   "execution_count": 11,
   "metadata": {},
   "outputs": [
    {
     "name": "stdout",
     "output_type": "stream",
     "text": [
      "True\n"
     ]
    }
   ],
   "source": [
    "print(expected_changes == actual_changes)"
   ]
  },
  {
   "cell_type": "code",
   "execution_count": 12,
   "metadata": {},
   "outputs": [],
   "source": [
    "def print_tables(tables: Tables):\n",
    "    for x, y in tables.items():\n",
    "        print(x, y)"
   ]
  },
  {
   "cell_type": "code",
   "execution_count": 30,
   "metadata": {},
   "outputs": [],
   "source": [
    "def algorithm(G: Graph, u: Node, v:Node):\n",
    "    v_node = G.nodes_obj[v]\n",
    "    u_node = G.nodes_obj[u]\n",
    "    v_neighbors = [\n",
    "        Edge(\n",
    "            from_node=x.label, \n",
    "            to_node=v_node.label,\n",
    "            expected_delay=expected,\n",
    "            worst_case_delay=worst\n",
    "        ) for x, (expected, worst) in v_node.in_going.items() if x.label != u\n",
    "    ] # technically, unnecessary. Might remove it in the future \n",
    "    n = len(G.nodes_obj)\n",
    "    u_node.clean(v_neighbors, v, v)\n",
    "    for _ in range(n - 1):\n",
    "        v_node.propogate(v_neighbors, v, []) # passing v_node to propogate does nothing."
   ]
  },
  {
   "cell_type": "code",
   "execution_count": 14,
   "metadata": {},
   "outputs": [],
   "source": [
    "def test_algorithm(name: str, graph: Graph, destination: Node, edge: Tuple[Node, Node], change: Tuple[int, int]):\n",
    "    old_tables = original_baruah(graph, destination, True)\n",
    "    (u, v) = edge\n",
    "    old_edges = deepcopy(graph.edges())\n",
    "    graph.modify_edge(u, v, change)\n",
    "    algorithm(graph, u, v)\n",
    "    new_tables = original_baruah(graph, destination, True)\n",
    "    expected_changes = difference_tables(old_tables, new_tables)\n",
    "    actual_tables = construct_tables(graph)\n",
    "    actual_changes = difference_tables(old_tables, actual_tables)\n",
    "\n",
    "    # print(f\"--- {name} ---\");\n",
    "    # print()\n",
    "\n",
    "    show_debug = False\n",
    "\n",
    "    if actual_changes != expected_changes:\n",
    "        print(\"FAIL\")\n",
    "        print(actual_changes)\n",
    "        print(expected_changes)\n",
    "        print(old_edges)\n",
    "        print(edge)\n",
    "        print(change)\n",
    "        print(\"result: \")\n",
    "        print_tables(actual_tables)\n",
    "        print(\"expected: \")\n",
    "        print_tables(new_tables)\n",
    "        print(\"old tables: \")\n",
    "        print_tables(old_tables)\n",
    "        return 0\n",
    "    return 1"
   ]
  },
  {
   "cell_type": "code",
   "execution_count": 15,
   "metadata": {},
   "outputs": [
    {
     "data": {
      "text/plain": [
       "1"
      ]
     },
     "execution_count": 15,
     "metadata": {},
     "output_type": "execute_result"
    }
   ],
   "source": [
    "test_algorithm(\"test\", G, 4, (2, 3), (10, 10))"
   ]
  },
  {
   "cell_type": "code",
   "execution_count": 16,
   "metadata": {},
   "outputs": [],
   "source": [
    "def random_test(num_tests=1000, min_nodes=5, max_nodes=15, max_delay=20):\n",
    "    passes = 0\n",
    "    def random_delay():\n",
    "        typical = random.randint(1, max_delay-1)\n",
    "        return (typical, random.randint(typical + 1, max_delay))\n",
    "\n",
    "    for i in range(num_tests):\n",
    "        nodes = [x for x in range(random.randint(min_nodes, max_nodes))] # create the nodes\n",
    "        graph = dict((x, {y: random_delay()}) for x, y in zip(nodes, nodes[1:])) # turn the path into a dictionary\n",
    "        n = len(nodes) # get the number of nodes\n",
    "        biggest_node = n - 1\n",
    "        graph[biggest_node] = {} # the last edge does not go anywhere afterwards\n",
    "\n",
    "        for x in range(random.randint(0, n*(n-1))): # create a random number of edges. n(n-1) is the maximum number of edges\n",
    "            from_node = random.randint(0, biggest_node)\n",
    "            to_node = random.randint(0, biggest_node)\n",
    "            while to_node == from_node: # makes sure that the to node and the from node are not the same\n",
    "                to_node = random.randint(0, biggest_node)\n",
    "            graph[from_node][to_node] = random_delay() # currently has an issue of accidentally overriding previous edges. But oh well.\n",
    "            # graph[to_node].pop(from_node, None)\n",
    "        g = Graph(graph)\n",
    "        g.init_tables(biggest_node)\n",
    "        from_node = random.randint(0,biggest_node) # select a random node\n",
    "        while len(graph[from_node].keys()) == 0: # make sure that the node has out going edges. (might not always be the case that the node has outgoing edges)\n",
    "            from_node = random.randint(0,biggest_node) # select a random node\n",
    "        to_node = random.choice(list(graph[from_node].keys())) # select one of its edges\n",
    "        edge = g.edge(from_node, to_node)\n",
    "        new_delay = random.randint(1, edge.worst_case_delay)\n",
    "        passes += test_algorithm(f\"test {i}\", g, biggest_node, (from_node, to_node), (new_delay, edge.worst_case_delay))\n",
    "        # print(f\"{passes}/{i + 1}\", end=\"\\r\")\n",
    "    return passes\n"
   ]
  },
  {
   "cell_type": "code",
   "execution_count": 17,
   "metadata": {},
   "outputs": [
    {
     "data": {
      "text/plain": [
       "1"
      ]
     },
     "execution_count": 17,
     "metadata": {},
     "output_type": "execute_result"
    }
   ],
   "source": [
    "G = Graph({\n",
    "    0: {1: (2, 18)},\n",
    "    1: {0:(1, 8), 2: (3, 18)},\n",
    "    2: {},\n",
    "})\n",
    "G.init_tables(2)\n",
    "test_algorithm(\"test\", G, 2, (1, 2), (11, 18))"
   ]
  },
  {
   "cell_type": "code",
   "execution_count": 33,
   "metadata": {},
   "outputs": [
    {
     "name": "stdout",
     "output_type": "stream",
     "text": [
      "FAIL\n",
      "{0: removed: {Entry: 62 1 31, Entry: 48 1 38}, added: {Entry: 48 1 31, Entry: 55 1 25}, 1: removed: set(), added: set(), 2: removed: set(), added: set(), 3: removed: set(), added: set(), 4: removed: set(), added: set()}\n",
      "{0: removed: {Entry: 62 1 31, Entry: 48 1 38}, added: {Entry: 48 1 31, Entry: 55 1 24}, 1: removed: set(), added: set(), 2: removed: set(), added: set(), 3: removed: set(), added: set(), 4: removed: set(), added: set()}\n",
      "{Edge(from_node=3, to_node=0, expected_delay=6, worst_case_delay=20), Edge(from_node=2, to_node=4, expected_delay=7, worst_case_delay=9), Edge(from_node=3, to_node=4, expected_delay=17, worst_case_delay=19), Edge(from_node=0, to_node=3, expected_delay=2, worst_case_delay=19), Edge(from_node=1, to_node=2, expected_delay=19, worst_case_delay=20), Edge(from_node=4, to_node=2, expected_delay=12, worst_case_delay=18), Edge(from_node=0, to_node=1, expected_delay=12, worst_case_delay=19), Edge(from_node=3, to_node=2, expected_delay=9, worst_case_delay=12), Edge(from_node=4, to_node=1, expected_delay=7, worst_case_delay=19), Edge(from_node=1, to_node=0, expected_delay=1, worst_case_delay=12), Edge(from_node=2, to_node=3, expected_delay=13, worst_case_delay=15)}\n",
      "(0, 1)\n",
      "(5, 19)\n",
      "result: \n",
      "0 [Entry: 55 1 25, Entry: 48 1 31, Entry: 38 3 18]\n",
      "1 [Entry: 50 0 19, Entry: 29 2 26]\n",
      "2 [Entry: 34 3 29, Entry: 9 4 7]\n",
      "3 [Entry: 58 0 24, Entry: 21 2 16, Entry: 19 4 17]\n",
      "4 [Entry: 0 None 0]\n",
      "expected: \n",
      "0 [Entry: 55 1 24, Entry: 48 1 31, Entry: 38 3 18]\n",
      "1 [Entry: 50 0 19, Entry: 29 2 26]\n",
      "2 [Entry: 34 3 29, Entry: 9 4 7]\n",
      "3 [Entry: 58 0 24, Entry: 19 4 17, Entry: 21 2 16]\n",
      "4 [Entry: 0 None 0]\n",
      "old tables: \n",
      "0 [Entry: 38 3 18, Entry: 62 1 31, Entry: 48 1 38]\n",
      "1 [Entry: 50 0 19, Entry: 29 2 26]\n",
      "2 [Entry: 34 3 29, Entry: 9 4 7]\n",
      "3 [Entry: 58 0 24, Entry: 19 4 17, Entry: 21 2 16]\n",
      "4 [Entry: 0 None 0]\n"
     ]
    },
    {
     "data": {
      "text/plain": [
       "0"
      ]
     },
     "execution_count": 33,
     "metadata": {},
     "output_type": "execute_result"
    }
   ],
   "source": [
    "G = Graph({\n",
    "    0: {3:(2, 19), 1:(12, 19)},\n",
    "    1: {2:(19,20), 0:(1, 12)},\n",
    "    2: {4:(7, 9), 3:(13, 15)},\n",
    "    3: {0:(6, 20), 4:(17, 19), 2:(9, 12)},\n",
    "    4: {2:(12, 18), 1:(7, 19)}\n",
    "})\n",
    "G.init_tables(4)\n",
    "test_algorithm(\"test\", G, 4, (0, 1), (5, 19))"
   ]
  },
  {
   "cell_type": "code",
   "execution_count": 35,
   "metadata": {},
   "outputs": [
    {
     "data": {
      "image/png": "[encoded data removed]",
      "text/plain": [
       "<Figure size 640x480 with 1 Axes>"
      ]
     },
     "metadata": {},
     "output_type": "display_data"
    }
   ],
   "source": [
    "draw_graph(G)"
   ]
  },
  {
   "cell_type": "code",
   "execution_count": 31,
   "metadata": {},
   "outputs": [
    {
     "name": "stdout",
     "output_type": "stream",
     "text": [
      "FAIL\n",
      "{0: removed: {Entry: 62 1 31, Entry: 48 1 38}, added: {Entry: 48 1 31, Entry: 55 1 25}, 1: removed: set(), added: set(), 2: removed: set(), added: set(), 3: removed: set(), added: set(), 4: removed: set(), added: set()}\n",
      "{0: removed: {Entry: 62 1 31, Entry: 48 1 38}, added: {Entry: 48 1 31, Entry: 55 1 24}, 1: removed: set(), added: set(), 2: removed: set(), added: set(), 3: removed: set(), added: set(), 4: removed: set(), added: set()}\n",
      "{Edge(from_node=3, to_node=0, expected_delay=6, worst_case_delay=20), Edge(from_node=2, to_node=4, expected_delay=7, worst_case_delay=9), Edge(from_node=3, to_node=4, expected_delay=17, worst_case_delay=19), Edge(from_node=0, to_node=3, expected_delay=2, worst_case_delay=19), Edge(from_node=1, to_node=2, expected_delay=19, worst_case_delay=20), Edge(from_node=4, to_node=2, expected_delay=12, worst_case_delay=18), Edge(from_node=0, to_node=1, expected_delay=12, worst_case_delay=19), Edge(from_node=3, to_node=2, expected_delay=9, worst_case_delay=12), Edge(from_node=4, to_node=1, expected_delay=7, worst_case_delay=19), Edge(from_node=1, to_node=0, expected_delay=1, worst_case_delay=12), Edge(from_node=2, to_node=3, expected_delay=13, worst_case_delay=15)}\n",
      "(0, 1)\n",
      "(5, 19)\n",
      "result: \n",
      "0 [Entry: 55 1 25, Entry: 48 1 31, Entry: 38 3 18]\n",
      "1 [Entry: 50 0 19, Entry: 29 2 26]\n",
      "2 [Entry: 34 3 29, Entry: 9 4 7]\n",
      "3 [Entry: 58 0 24, Entry: 21 2 16, Entry: 19 4 17]\n",
      "4 [Entry: 0 None 0]\n",
      "expected: \n",
      "0 [Entry: 55 1 24, Entry: 48 1 31, Entry: 38 3 18]\n",
      "1 [Entry: 50 0 19, Entry: 29 2 26]\n",
      "2 [Entry: 34 3 29, Entry: 9 4 7]\n",
      "3 [Entry: 58 0 24, Entry: 19 4 17, Entry: 21 2 16]\n",
      "4 [Entry: 0 None 0]\n",
      "old tables: \n",
      "0 [Entry: 38 3 18, Entry: 62 1 31, Entry: 48 1 38]\n",
      "1 [Entry: 50 0 19, Entry: 29 2 26]\n",
      "2 [Entry: 34 3 29, Entry: 9 4 7]\n",
      "3 [Entry: 58 0 24, Entry: 19 4 17, Entry: 21 2 16]\n",
      "4 [Entry: 0 None 0]\n",
      "FAIL\n",
      "{0: removed: set(), added: set(), 1: removed: {Entry: 76 0 41}, added: {Entry: 127 0 82}, 2: removed: set(), added: set(), 3: removed: set(), added: set(), 4: removed: set(), added: set()}\n",
      "{0: removed: set(), added: set(), 1: removed: set(), added: set(), 2: removed: set(), added: set(), 3: removed: set(), added: set(), 4: removed: set(), added: set()}\n",
      "{Edge(from_node=1, to_node=2, expected_delay=5, worst_case_delay=11), Edge(from_node=2, to_node=1, expected_delay=12, worst_case_delay=15), Edge(from_node=0, to_node=1, expected_delay=17, worst_case_delay=20), Edge(from_node=1, to_node=0, expected_delay=2, worst_case_delay=17), Edge(from_node=2, to_node=0, expected_delay=19, worst_case_delay=20), Edge(from_node=4, to_node=0, expected_delay=19, worst_case_delay=20), Edge(from_node=2, to_node=3, expected_delay=4, worst_case_delay=9), Edge(from_node=3, to_node=4, expected_delay=13, worst_case_delay=19), Edge(from_node=4, to_node=3, expected_delay=12, worst_case_delay=14), Edge(from_node=3, to_node=2, expected_delay=18, worst_case_delay=20)}\n",
      "(1, 0)\n",
      "(2, 17)\n",
      "result: \n",
      "0 [Entry: 59 1 39]\n",
      "1 [Entry: 127 0 82, Entry: 39 2 22]\n",
      "2 [Entry: 79 0 58, Entry: 54 1 34, Entry: 28 3 17]\n",
      "3 [Entry: 48 2 35, Entry: 19 4 13]\n",
      "4 [Entry: 0 None 0]\n",
      "expected: \n",
      "0 [Entry: 59 1 39]\n",
      "1 [Entry: 76 0 41, Entry: 39 2 22]\n",
      "2 [Entry: 28 3 17, Entry: 54 1 34, Entry: 79 0 58]\n",
      "3 [Entry: 19 4 13, Entry: 48 2 35]\n",
      "4 [Entry: 0 None 0]\n",
      "old tables: \n",
      "0 [Entry: 59 1 39]\n",
      "1 [Entry: 76 0 41, Entry: 39 2 22]\n",
      "2 [Entry: 28 3 17, Entry: 54 1 34, Entry: 79 0 58]\n",
      "3 [Entry: 19 4 13, Entry: 48 2 35]\n",
      "4 [Entry: 0 None 0]\n",
      "FAIL\n",
      "{0: removed: set(), added: set(), 1: removed: {Entry: 60 0 41}, added: {Entry: 138 0 44}, 2: removed: set(), added: set(), 3: removed: set(), added: set(), 4: removed: set(), added: set()}\n",
      "{0: removed: set(), added: set(), 1: removed: {Entry: 60 0 41}, added: {Entry: 60 0 26}, 2: removed: set(), added: set(), 3: removed: set(), added: set(), 4: removed: set(), added: set()}\n",
      "{Edge(from_node=1, to_node=2, expected_delay=13, worst_case_delay=18), Edge(from_node=2, to_node=3, expected_delay=4, worst_case_delay=10), Edge(from_node=1, to_node=0, expected_delay=16, worst_case_delay=18), Edge(from_node=3, to_node=4, expected_delay=3, worst_case_delay=6), Edge(from_node=2, to_node=1, expected_delay=19, worst_case_delay=20), Edge(from_node=4, to_node=3, expected_delay=3, worst_case_delay=9), Edge(from_node=0, to_node=1, expected_delay=5, worst_case_delay=8), Edge(from_node=3, to_node=2, expected_delay=5, worst_case_delay=14)}\n",
      "(1, 0)\n",
      "(1, 18)\n",
      "result: \n",
      "0 [Entry: 42 1 25]\n",
      "1 [Entry: 138 0 44, Entry: 34 2 20]\n",
      "2 [Entry: 54 1 39, Entry: 16 3 7]\n",
      "3 [Entry: 30 2 12, Entry: 6 4 3]\n",
      "4 [Entry: 0 None 0]\n",
      "expected: \n",
      "0 [Entry: 42 1 25]\n",
      "1 [Entry: 34 2 20, Entry: 60 0 26]\n",
      "2 [Entry: 16 3 7, Entry: 54 1 39]\n",
      "3 [Entry: 6 4 3, Entry: 30 2 12]\n",
      "4 [Entry: 0 None 0]\n",
      "old tables: \n",
      "0 [Entry: 42 1 25]\n",
      "1 [Entry: 60 0 41, Entry: 34 2 20]\n",
      "2 [Entry: 16 3 7, Entry: 54 1 39]\n",
      "3 [Entry: 6 4 3, Entry: 30 2 12]\n",
      "4 [Entry: 0 None 0]\n",
      "FAIL\n",
      "{0: removed: set(), added: set(), 1: removed: {Entry: 64 0 34, Entry: 53 0 35}, added: {Entry: 53 0 40}, 2: removed: set(), added: set(), 3: removed: set(), added: set(), 4: removed: set(), added: set()}\n",
      "{0: removed: set(), added: set(), 1: removed: {Entry: 64 0 34, Entry: 53 0 35}, added: {Entry: 69 0 39, Entry: 53 0 40}, 2: removed: set(), added: set(), 3: removed: set(), added: set(), 4: removed: set(), added: set()}\n",
      "{Edge(from_node=3, to_node=0, expected_delay=16, worst_case_delay=20), Edge(from_node=1, to_node=4, expected_delay=19, worst_case_delay=20), Edge(from_node=2, to_node=1, expected_delay=13, worst_case_delay=17), Edge(from_node=2, to_node=3, expected_delay=4, worst_case_delay=20), Edge(from_node=3, to_node=2, expected_delay=12, worst_case_delay=13), Edge(from_node=4, to_node=3, expected_delay=8, worst_case_delay=14), Edge(from_node=1, to_node=2, expected_delay=3, worst_case_delay=11), Edge(from_node=4, to_node=0, expected_delay=6, worst_case_delay=9), Edge(from_node=2, to_node=0, expected_delay=9, worst_case_delay=13), Edge(from_node=1, to_node=0, expected_delay=13, worst_case_delay=19), Edge(from_node=3, to_node=4, expected_delay=11, worst_case_delay=19), Edge(from_node=0, to_node=1, expected_delay=3, worst_case_delay=14)}\n",
      "(1, 0)\n",
      "(18, 19)\n",
      "result: \n",
      "0 [Entry: 51 1 21, Entry: 34 1 22]\n",
      "1 [Entry: 53 0 40, Entry: 48 2 18, Entry: 20 4 19]\n",
      "2 [Entry: 47 0 31, Entry: 60 0 30, Entry: 61 1 31, Entry: 37 1 32, Entry: 39 3 15]\n",
      "3 [Entry: 54 0 38, Entry: 67 0 37, Entry: 51 2 27, Entry: 50 2 44, Entry: 19 4 11]\n",
      "4 [Entry: 0 None 0]\n",
      "expected: \n",
      "0 [Entry: 51 1 21, Entry: 34 1 22]\n",
      "1 [Entry: 48 2 18, Entry: 20 4 19, Entry: 53 0 40, Entry: 69 0 39]\n",
      "2 [Entry: 47 0 31, Entry: 60 0 30, Entry: 39 3 15, Entry: 37 1 32, Entry: 61 1 31]\n",
      "3 [Entry: 54 0 38, Entry: 67 0 37, Entry: 51 2 27, Entry: 50 2 44, Entry: 19 4 11]\n",
      "4 [Entry: 0 None 0]\n",
      "old tables: \n",
      "0 [Entry: 51 1 21, Entry: 34 1 22]\n",
      "1 [Entry: 64 0 34, Entry: 48 2 18, Entry: 20 4 19, Entry: 53 0 35]\n",
      "2 [Entry: 47 0 31, Entry: 60 0 30, Entry: 39 3 15, Entry: 37 1 32, Entry: 61 1 31]\n",
      "3 [Entry: 54 0 38, Entry: 67 0 37, Entry: 51 2 27, Entry: 50 2 44, Entry: 19 4 11]\n",
      "4 [Entry: 0 None 0]\n",
      "FAIL\n",
      "{0: removed: set(), added: set(), 1: removed: {Entry: 74 0 34}, added: {Entry: 129 0 59}, 2: removed: set(), added: set(), 3: removed: set(), added: set(), 4: removed: set(), added: set()}\n",
      "{0: removed: set(), added: set(), 1: removed: {Entry: 74 0 34}, added: {Entry: 74 0 30}, 2: removed: set(), added: set(), 3: removed: set(), added: set(), 4: removed: set(), added: set()}\n",
      "{Edge(from_node=1, to_node=0, expected_delay=7, worst_case_delay=9), Edge(from_node=2, to_node=0, expected_delay=18, worst_case_delay=19), Edge(from_node=2, to_node=1, expected_delay=11, worst_case_delay=18), Edge(from_node=0, to_node=1, expected_delay=10, worst_case_delay=20), Edge(from_node=3, to_node=2, expected_delay=15, worst_case_delay=19), Edge(from_node=1, to_node=2, expected_delay=1, worst_case_delay=16), Edge(from_node=2, to_node=3, expected_delay=15, worst_case_delay=16), Edge(from_node=3, to_node=4, expected_delay=1, worst_case_delay=13), Edge(from_node=4, to_node=3, expected_delay=17, worst_case_delay=18)}\n",
      "(1, 0)\n",
      "(3, 9)\n",
      "result: \n",
      "0 [Entry: 65 1 27]\n",
      "1 [Entry: 129 0 59, Entry: 45 2 17]\n",
      "2 [Entry: 84 0 45, Entry: 63 1 28, Entry: 29 3 16]\n",
      "3 [Entry: 48 2 31, Entry: 13 4 1]\n",
      "4 [Entry: 0 None 0]\n",
      "expected: \n",
      "0 [Entry: 65 1 27]\n",
      "1 [Entry: 74 0 30, Entry: 45 2 17]\n",
      "2 [Entry: 29 3 16, Entry: 63 1 28, Entry: 84 0 45]\n",
      "3 [Entry: 13 4 1, Entry: 48 2 31]\n",
      "4 [Entry: 0 None 0]\n",
      "old tables: \n",
      "0 [Entry: 65 1 27]\n",
      "1 [Entry: 74 0 34, Entry: 45 2 17]\n",
      "2 [Entry: 29 3 16, Entry: 63 1 28, Entry: 84 0 45]\n",
      "3 [Entry: 13 4 1, Entry: 48 2 31]\n",
      "4 [Entry: 0 None 0]\n",
      "FAIL\n",
      "{0: removed: set(), added: set(), 1: removed: {Entry: 59 0 39}, added: {Entry: 59 0 42}, 2: removed: set(), added: set(), 3: removed: set(), added: set(), 4: removed: set(), added: set()}\n",
      "{0: removed: set(), added: set(), 1: removed: {Entry: 59 0 39}, added: {Entry: 59 0 40}, 2: removed: set(), added: set(), 3: removed: set(), added: set(), 4: removed: set(), added: set()}\n",
      "{Edge(from_node=0, to_node=1, expected_delay=19, worst_case_delay=20), Edge(from_node=3, to_node=4, expected_delay=4, worst_case_delay=9), Edge(from_node=1, to_node=2, expected_delay=9, worst_case_delay=17), Edge(from_node=2, to_node=1, expected_delay=13, worst_case_delay=14), Edge(from_node=2, to_node=3, expected_delay=6, worst_case_delay=14), Edge(from_node=1, to_node=0, expected_delay=1, worst_case_delay=3), Edge(from_node=2, to_node=4, expected_delay=12, worst_case_delay=19), Edge(from_node=3, to_node=2, expected_delay=8, worst_case_delay=16), Edge(from_node=4, to_node=3, expected_delay=11, worst_case_delay=16)}\n",
      "(1, 0)\n",
      "(2, 3)\n",
      "result: \n",
      "0 [Entry: 56 1 38]\n",
      "1 [Entry: 59 0 42, Entry: 36 2 19]\n",
      "2 [Entry: 50 1 32, Entry: 23 3 10, Entry: 19 4 12]\n",
      "3 [Entry: 35 2 18, Entry: 9 4 4]\n",
      "4 [Entry: 0 None 0]\n",
      "expected: \n",
      "0 [Entry: 56 1 38]\n",
      "1 [Entry: 36 2 19, Entry: 59 0 40]\n",
      "2 [Entry: 19 4 12, Entry: 50 1 32, Entry: 23 3 10]\n",
      "3 [Entry: 9 4 4, Entry: 35 2 18]\n",
      "4 [Entry: 0 None 0]\n",
      "old tables: \n",
      "0 [Entry: 56 1 38]\n",
      "1 [Entry: 59 0 39, Entry: 36 2 19]\n",
      "2 [Entry: 19 4 12, Entry: 50 1 32, Entry: 23 3 10]\n",
      "3 [Entry: 9 4 4, Entry: 35 2 18]\n",
      "4 [Entry: 0 None 0]\n",
      "FAIL\n",
      "{0: removed: set(), added: set(), 1: removed: {Entry: 84 0 51}, added: {Entry: 123 0 79}, 2: removed: set(), added: set(), 3: removed: set(), added: set(), 4: removed: set(), added: set()}\n",
      "{0: removed: set(), added: set(), 1: removed: {Entry: 84 0 51}, added: {Entry: 84 0 53}, 2: removed: set(), added: set(), 3: removed: set(), added: set(), 4: removed: set(), added: set()}\n",
      "{Edge(from_node=4, to_node=0, expected_delay=4, worst_case_delay=20), Edge(from_node=2, to_node=0, expected_delay=1, worst_case_delay=9), Edge(from_node=1, to_node=2, expected_delay=19, worst_case_delay=20), Edge(from_node=0, to_node=1, expected_delay=6, worst_case_delay=10), Edge(from_node=4, to_node=3, expected_delay=4, worst_case_delay=6), Edge(from_node=3, to_node=4, expected_delay=17, worst_case_delay=18), Edge(from_node=2, to_node=3, expected_delay=3, worst_case_delay=20), Edge(from_node=3, to_node=2, expected_delay=8, worst_case_delay=14), Edge(from_node=1, to_node=0, expected_delay=6, worst_case_delay=16), Edge(from_node=2, to_node=1, expected_delay=3, worst_case_delay=11)}\n",
      "(1, 0)\n",
      "(8, 16)\n",
      "result: \n",
      "0 [Entry: 68 1 45]\n",
      "1 [Entry: 123 0 79, Entry: 58 2 39]\n",
      "2 [Entry: 77 0 46, Entry: 69 1 42, Entry: 38 3 20]\n",
      "3 [Entry: 52 2 28, Entry: 18 4 17]\n",
      "4 [Entry: 0 None 0]\n",
      "expected: \n",
      "0 [Entry: 68 1 45]\n",
      "1 [Entry: 58 2 39, Entry: 84 0 53]\n",
      "2 [Entry: 69 1 42, Entry: 38 3 20, Entry: 77 0 46]\n",
      "3 [Entry: 18 4 17, Entry: 52 2 28]\n",
      "4 [Entry: 0 None 0]\n",
      "old tables: \n",
      "0 [Entry: 68 1 45]\n",
      "1 [Entry: 58 2 39, Entry: 84 0 51]\n",
      "2 [Entry: 69 1 42, Entry: 38 3 20, Entry: 77 0 46]\n",
      "3 [Entry: 18 4 17, Entry: 52 2 28]\n",
      "4 [Entry: 0 None 0]\n"
     ]
    },
    {
     "ename": "KeyboardInterrupt",
     "evalue": "",
     "output_type": "error",
     "traceback": [
      "\u001b[1;31m---------------------------------------------------------------------------\u001b[0m",
      "\u001b[1;31mKeyboardInterrupt\u001b[0m                         Traceback (most recent call last)",
      "Cell \u001b[1;32mIn [31], line 2\u001b[0m\n\u001b[0;32m      1\u001b[0m num_tests \u001b[38;5;241m=\u001b[39m \u001b[38;5;241m1_000_000\u001b[39m\n\u001b[1;32m----> 2\u001b[0m result \u001b[38;5;241m=\u001b[39m \u001b[43mrandom_test\u001b[49m\u001b[43m(\u001b[49m\u001b[43mnum_tests\u001b[49m\u001b[38;5;241;43m=\u001b[39;49m\u001b[43mnum_tests\u001b[49m\u001b[43m,\u001b[49m\u001b[43m \u001b[49m\u001b[43mmin_nodes\u001b[49m\u001b[38;5;241;43m=\u001b[39;49m\u001b[38;5;241;43m5\u001b[39;49m\u001b[43m,\u001b[49m\u001b[43m \u001b[49m\u001b[43mmax_nodes\u001b[49m\u001b[38;5;241;43m=\u001b[39;49m\u001b[38;5;241;43m5\u001b[39;49m\u001b[43m)\u001b[49m\n\u001b[0;32m      3\u001b[0m \u001b[38;5;28mprint\u001b[39m(\u001b[38;5;124mf\u001b[39m\u001b[38;5;124m\"\u001b[39m\u001b[38;5;124mscore: \u001b[39m\u001b[38;5;132;01m{\u001b[39;00mresult\u001b[38;5;132;01m}\u001b[39;00m\u001b[38;5;124m/\u001b[39m\u001b[38;5;132;01m{\u001b[39;00mnum_tests\u001b[38;5;132;01m}\u001b[39;00m\u001b[38;5;124m\"\u001b[39m)\n",
      "Cell \u001b[1;32mIn [16], line 29\u001b[0m, in \u001b[0;36mrandom_test\u001b[1;34m(num_tests, min_nodes, max_nodes, max_delay)\u001b[0m\n\u001b[0;32m     27\u001b[0m     edge \u001b[38;5;241m=\u001b[39m g\u001b[38;5;241m.\u001b[39medge(from_node, to_node)\n\u001b[0;32m     28\u001b[0m     new_delay \u001b[38;5;241m=\u001b[39m random\u001b[38;5;241m.\u001b[39mrandint(\u001b[38;5;241m1\u001b[39m, edge\u001b[38;5;241m.\u001b[39mworst_case_delay)\n\u001b[1;32m---> 29\u001b[0m     passes \u001b[38;5;241m+\u001b[39m\u001b[38;5;241m=\u001b[39m \u001b[43mtest_algorithm\u001b[49m\u001b[43m(\u001b[49m\u001b[38;5;124;43mf\u001b[39;49m\u001b[38;5;124;43m\"\u001b[39;49m\u001b[38;5;124;43mtest \u001b[39;49m\u001b[38;5;132;43;01m{\u001b[39;49;00m\u001b[43mi\u001b[49m\u001b[38;5;132;43;01m}\u001b[39;49;00m\u001b[38;5;124;43m\"\u001b[39;49m\u001b[43m,\u001b[49m\u001b[43m \u001b[49m\u001b[43mg\u001b[49m\u001b[43m,\u001b[49m\u001b[43m \u001b[49m\u001b[43mbiggest_node\u001b[49m\u001b[43m,\u001b[49m\u001b[43m \u001b[49m\u001b[43m(\u001b[49m\u001b[43mfrom_node\u001b[49m\u001b[43m,\u001b[49m\u001b[43m \u001b[49m\u001b[43mto_node\u001b[49m\u001b[43m)\u001b[49m\u001b[43m,\u001b[49m\u001b[43m \u001b[49m\u001b[43m(\u001b[49m\u001b[43mnew_delay\u001b[49m\u001b[43m,\u001b[49m\u001b[43m \u001b[49m\u001b[43medge\u001b[49m\u001b[38;5;241;43m.\u001b[39;49m\u001b[43mworst_case_delay\u001b[49m\u001b[43m)\u001b[49m\u001b[43m)\u001b[49m\n\u001b[0;32m     30\u001b[0m     \u001b[38;5;66;03m# print(f\"{passes}/{i + 1}\", end=\"\\r\")\u001b[39;00m\n\u001b[0;32m     31\u001b[0m \u001b[38;5;28;01mreturn\u001b[39;00m passes\n",
      "Cell \u001b[1;32mIn [14], line 6\u001b[0m, in \u001b[0;36mtest_algorithm\u001b[1;34m(name, graph, destination, edge, change)\u001b[0m\n\u001b[0;32m      4\u001b[0m old_edges \u001b[38;5;241m=\u001b[39m deepcopy(graph\u001b[38;5;241m.\u001b[39medges())\n\u001b[0;32m      5\u001b[0m graph\u001b[38;5;241m.\u001b[39mmodify_edge(u, v, change)\n\u001b[1;32m----> 6\u001b[0m \u001b[43malgorithm\u001b[49m\u001b[43m(\u001b[49m\u001b[43mgraph\u001b[49m\u001b[43m,\u001b[49m\u001b[43m \u001b[49m\u001b[43mu\u001b[49m\u001b[43m,\u001b[49m\u001b[43m \u001b[49m\u001b[43mv\u001b[49m\u001b[43m)\u001b[49m\n\u001b[0;32m      7\u001b[0m new_tables \u001b[38;5;241m=\u001b[39m original_baruah(graph, destination, \u001b[38;5;28;01mTrue\u001b[39;00m)\n\u001b[0;32m      8\u001b[0m expected_changes \u001b[38;5;241m=\u001b[39m difference_tables(old_tables, new_tables)\n",
      "Cell \u001b[1;32mIn [30], line 13\u001b[0m, in \u001b[0;36malgorithm\u001b[1;34m(G, u, v)\u001b[0m\n\u001b[0;32m      4\u001b[0m v_neighbors \u001b[38;5;241m=\u001b[39m [\n\u001b[0;32m      5\u001b[0m     Edge(\n\u001b[0;32m      6\u001b[0m         from_node\u001b[38;5;241m=\u001b[39mx\u001b[38;5;241m.\u001b[39mlabel, \n\u001b[1;32m   (...)\u001b[0m\n\u001b[0;32m     10\u001b[0m     ) \u001b[38;5;28;01mfor\u001b[39;00m x, (expected, worst) \u001b[38;5;129;01min\u001b[39;00m v_node\u001b[38;5;241m.\u001b[39min_going\u001b[38;5;241m.\u001b[39mitems() \u001b[38;5;28;01mif\u001b[39;00m x\u001b[38;5;241m.\u001b[39mlabel \u001b[38;5;241m!=\u001b[39m u\n\u001b[0;32m     11\u001b[0m ] \u001b[38;5;66;03m# technically, unnecessary. Might remove it in the future \u001b[39;00m\n\u001b[0;32m     12\u001b[0m n \u001b[38;5;241m=\u001b[39m \u001b[38;5;28mlen\u001b[39m(G\u001b[38;5;241m.\u001b[39mnodes_obj)\n\u001b[1;32m---> 13\u001b[0m \u001b[43mu_node\u001b[49m\u001b[38;5;241;43m.\u001b[39;49m\u001b[43mclean\u001b[49m\u001b[43m(\u001b[49m\u001b[43mv_neighbors\u001b[49m\u001b[43m,\u001b[49m\u001b[43m \u001b[49m\u001b[43mv\u001b[49m\u001b[43m,\u001b[49m\u001b[43m \u001b[49m\u001b[43mv\u001b[49m\u001b[43m)\u001b[49m\n\u001b[0;32m     14\u001b[0m \u001b[38;5;28;01mfor\u001b[39;00m _ \u001b[38;5;129;01min\u001b[39;00m \u001b[38;5;28mrange\u001b[39m(n \u001b[38;5;241m-\u001b[39m \u001b[38;5;241m1\u001b[39m):\n\u001b[0;32m     15\u001b[0m     v_node\u001b[38;5;241m.\u001b[39mpropogate(v_neighbors, v, [])\n",
      "File \u001b[1;32mc:\\Users\\Matheus\\Desktop\\github\\research\\relax\\btypes.py:155\u001b[0m, in \u001b[0;36mNode_obj.clean\u001b[1;34m(self, relaxed_edges, parent, origin)\u001b[0m\n\u001b[0;32m    153\u001b[0m \u001b[38;5;28;01mif\u001b[39;00m edge \u001b[38;5;129;01min\u001b[39;00m relaxed_edges \u001b[38;5;129;01mor\u001b[39;00m neighbor\u001b[38;5;241m.\u001b[39mlabel \u001b[38;5;241m==\u001b[39m origin:\n\u001b[0;32m    154\u001b[0m     \u001b[38;5;28;01mcontinue\u001b[39;00m\n\u001b[1;32m--> 155\u001b[0m \u001b[43mneighbor\u001b[49m\u001b[38;5;241;43m.\u001b[39;49m\u001b[43mclean\u001b[49m\u001b[43m(\u001b[49m\u001b[43mnew_relaxed\u001b[49m\u001b[43m,\u001b[49m\u001b[43m \u001b[49m\u001b[38;5;28;43mself\u001b[39;49m\u001b[38;5;241;43m.\u001b[39;49m\u001b[43mlabel\u001b[49m\u001b[43m,\u001b[49m\u001b[43m \u001b[49m\u001b[43morigin\u001b[49m\u001b[43m)\u001b[49m\n",
      "File \u001b[1;32mc:\\Users\\Matheus\\Desktop\\github\\research\\relax\\btypes.py:155\u001b[0m, in \u001b[0;36mNode_obj.clean\u001b[1;34m(self, relaxed_edges, parent, origin)\u001b[0m\n\u001b[0;32m    153\u001b[0m \u001b[38;5;28;01mif\u001b[39;00m edge \u001b[38;5;129;01min\u001b[39;00m relaxed_edges \u001b[38;5;129;01mor\u001b[39;00m neighbor\u001b[38;5;241m.\u001b[39mlabel \u001b[38;5;241m==\u001b[39m origin:\n\u001b[0;32m    154\u001b[0m     \u001b[38;5;28;01mcontinue\u001b[39;00m\n\u001b[1;32m--> 155\u001b[0m \u001b[43mneighbor\u001b[49m\u001b[38;5;241;43m.\u001b[39;49m\u001b[43mclean\u001b[49m\u001b[43m(\u001b[49m\u001b[43mnew_relaxed\u001b[49m\u001b[43m,\u001b[49m\u001b[43m \u001b[49m\u001b[38;5;28;43mself\u001b[39;49m\u001b[38;5;241;43m.\u001b[39;49m\u001b[43mlabel\u001b[49m\u001b[43m,\u001b[49m\u001b[43m \u001b[49m\u001b[43morigin\u001b[49m\u001b[43m)\u001b[49m\n",
      "File \u001b[1;32mc:\\Users\\Matheus\\Desktop\\github\\research\\relax\\btypes.py:155\u001b[0m, in \u001b[0;36mNode_obj.clean\u001b[1;34m(self, relaxed_edges, parent, origin)\u001b[0m\n\u001b[0;32m    153\u001b[0m \u001b[38;5;28;01mif\u001b[39;00m edge \u001b[38;5;129;01min\u001b[39;00m relaxed_edges \u001b[38;5;129;01mor\u001b[39;00m neighbor\u001b[38;5;241m.\u001b[39mlabel \u001b[38;5;241m==\u001b[39m origin:\n\u001b[0;32m    154\u001b[0m     \u001b[38;5;28;01mcontinue\u001b[39;00m\n\u001b[1;32m--> 155\u001b[0m \u001b[43mneighbor\u001b[49m\u001b[38;5;241;43m.\u001b[39;49m\u001b[43mclean\u001b[49m\u001b[43m(\u001b[49m\u001b[43mnew_relaxed\u001b[49m\u001b[43m,\u001b[49m\u001b[43m \u001b[49m\u001b[38;5;28;43mself\u001b[39;49m\u001b[38;5;241;43m.\u001b[39;49m\u001b[43mlabel\u001b[49m\u001b[43m,\u001b[49m\u001b[43m \u001b[49m\u001b[43morigin\u001b[49m\u001b[43m)\u001b[49m\n",
      "File \u001b[1;32mc:\\Users\\Matheus\\Desktop\\github\\research\\relax\\btypes.py:147\u001b[0m, in \u001b[0;36mNode_obj.clean\u001b[1;34m(self, relaxed_edges, parent, origin)\u001b[0m\n\u001b[0;32m    146\u001b[0m \u001b[38;5;28;01mdef\u001b[39;00m \u001b[38;5;21mclean\u001b[39m(\u001b[38;5;28mself\u001b[39m, relaxed_edges, parent, origin):\n\u001b[1;32m--> 147\u001b[0m     new_relaxed \u001b[38;5;241m=\u001b[39m \u001b[43mdeepcopy\u001b[49m\u001b[43m(\u001b[49m\u001b[43mrelaxed_edges\u001b[49m\u001b[43m)\u001b[49m\n\u001b[0;32m    148\u001b[0m     \u001b[38;5;28;01mfor\u001b[39;00m neighbor, (expected, worse) \u001b[38;5;129;01min\u001b[39;00m \u001b[38;5;28mself\u001b[39m\u001b[38;5;241m.\u001b[39min_going\u001b[38;5;241m.\u001b[39mitems():\n\u001b[0;32m    149\u001b[0m         new_relaxed\u001b[38;5;241m.\u001b[39mappend(Edge(neighbor\u001b[38;5;241m.\u001b[39mlabel, \u001b[38;5;28mself\u001b[39m\u001b[38;5;241m.\u001b[39mlabel, expected, worse))\n",
      "File \u001b[1;32mc:\\Python311\\Lib\\copy.py:146\u001b[0m, in \u001b[0;36mdeepcopy\u001b[1;34m(x, memo, _nil)\u001b[0m\n\u001b[0;32m    144\u001b[0m copier \u001b[38;5;241m=\u001b[39m _deepcopy_dispatch\u001b[38;5;241m.\u001b[39mget(\u001b[38;5;28mcls\u001b[39m)\n\u001b[0;32m    145\u001b[0m \u001b[38;5;28;01mif\u001b[39;00m copier \u001b[38;5;129;01mis\u001b[39;00m \u001b[38;5;129;01mnot\u001b[39;00m \u001b[38;5;28;01mNone\u001b[39;00m:\n\u001b[1;32m--> 146\u001b[0m     y \u001b[38;5;241m=\u001b[39m \u001b[43mcopier\u001b[49m\u001b[43m(\u001b[49m\u001b[43mx\u001b[49m\u001b[43m,\u001b[49m\u001b[43m \u001b[49m\u001b[43mmemo\u001b[49m\u001b[43m)\u001b[49m\n\u001b[0;32m    147\u001b[0m \u001b[38;5;28;01melse\u001b[39;00m:\n\u001b[0;32m    148\u001b[0m     \u001b[38;5;28;01mif\u001b[39;00m \u001b[38;5;28missubclass\u001b[39m(\u001b[38;5;28mcls\u001b[39m, \u001b[38;5;28mtype\u001b[39m):\n",
      "File \u001b[1;32mc:\\Python311\\Lib\\copy.py:206\u001b[0m, in \u001b[0;36m_deepcopy_list\u001b[1;34m(x, memo, deepcopy)\u001b[0m\n\u001b[0;32m    204\u001b[0m append \u001b[38;5;241m=\u001b[39m y\u001b[38;5;241m.\u001b[39mappend\n\u001b[0;32m    205\u001b[0m \u001b[38;5;28;01mfor\u001b[39;00m a \u001b[38;5;129;01min\u001b[39;00m x:\n\u001b[1;32m--> 206\u001b[0m     append(\u001b[43mdeepcopy\u001b[49m\u001b[43m(\u001b[49m\u001b[43ma\u001b[49m\u001b[43m,\u001b[49m\u001b[43m \u001b[49m\u001b[43mmemo\u001b[49m\u001b[43m)\u001b[49m)\n\u001b[0;32m    207\u001b[0m \u001b[38;5;28;01mreturn\u001b[39;00m y\n",
      "File \u001b[1;32mc:\\Python311\\Lib\\copy.py:172\u001b[0m, in \u001b[0;36mdeepcopy\u001b[1;34m(x, memo, _nil)\u001b[0m\n\u001b[0;32m    170\u001b[0m                 y \u001b[38;5;241m=\u001b[39m x\n\u001b[0;32m    171\u001b[0m             \u001b[38;5;28;01melse\u001b[39;00m:\n\u001b[1;32m--> 172\u001b[0m                 y \u001b[38;5;241m=\u001b[39m \u001b[43m_reconstruct\u001b[49m\u001b[43m(\u001b[49m\u001b[43mx\u001b[49m\u001b[43m,\u001b[49m\u001b[43m \u001b[49m\u001b[43mmemo\u001b[49m\u001b[43m,\u001b[49m\u001b[43m \u001b[49m\u001b[38;5;241;43m*\u001b[39;49m\u001b[43mrv\u001b[49m\u001b[43m)\u001b[49m\n\u001b[0;32m    174\u001b[0m \u001b[38;5;66;03m# If is its own copy, don't memoize.\u001b[39;00m\n\u001b[0;32m    175\u001b[0m \u001b[38;5;28;01mif\u001b[39;00m y \u001b[38;5;129;01mis\u001b[39;00m \u001b[38;5;129;01mnot\u001b[39;00m x:\n",
      "File \u001b[1;32mc:\\Python311\\Lib\\copy.py:259\u001b[0m, in \u001b[0;36m_reconstruct\u001b[1;34m(x, memo, func, args, state, listiter, dictiter, deepcopy)\u001b[0m\n\u001b[0;32m    255\u001b[0m     \u001b[38;5;28;01mexcept\u001b[39;00m \u001b[38;5;167;01mKeyError\u001b[39;00m:\n\u001b[0;32m    256\u001b[0m         \u001b[38;5;66;03m# aha, this is the first one :-)\u001b[39;00m\n\u001b[0;32m    257\u001b[0m         memo[\u001b[38;5;28mid\u001b[39m(memo)]\u001b[38;5;241m=\u001b[39m[x]\n\u001b[1;32m--> 259\u001b[0m \u001b[38;5;28;01mdef\u001b[39;00m \u001b[38;5;21m_reconstruct\u001b[39m(x, memo, func, args,\n\u001b[0;32m    260\u001b[0m                  state\u001b[38;5;241m=\u001b[39m\u001b[38;5;28;01mNone\u001b[39;00m, listiter\u001b[38;5;241m=\u001b[39m\u001b[38;5;28;01mNone\u001b[39;00m, dictiter\u001b[38;5;241m=\u001b[39m\u001b[38;5;28;01mNone\u001b[39;00m,\n\u001b[0;32m    261\u001b[0m                  \u001b[38;5;241m*\u001b[39m, deepcopy\u001b[38;5;241m=\u001b[39mdeepcopy):\n\u001b[0;32m    262\u001b[0m     deep \u001b[38;5;241m=\u001b[39m memo \u001b[38;5;129;01mis\u001b[39;00m \u001b[38;5;129;01mnot\u001b[39;00m \u001b[38;5;28;01mNone\u001b[39;00m\n\u001b[0;32m    263\u001b[0m     \u001b[38;5;28;01mif\u001b[39;00m deep \u001b[38;5;129;01mand\u001b[39;00m args:\n",
      "\u001b[1;31mKeyboardInterrupt\u001b[0m: "
     ]
    }
   ],
   "source": [
    "num_tests = 1_000_000\n",
    "result = random_test(num_tests=num_tests, min_nodes=5, max_nodes=5)\n",
    "print(f\"score: {result}/{num_tests}\")"
   ]
  },
  {
   "cell_type": "code",
   "execution_count": 26,
   "metadata": {},
   "outputs": [
    {
     "data": {
      "text/plain": [
       "1"
      ]
     },
     "execution_count": 26,
     "metadata": {},
     "output_type": "execute_result"
    }
   ],
   "source": [
    "G = Graph({\n",
    "    0: {1:(6, 16), 3:(1, 10)},\n",
    "    1: {2:(17 ,20)},\n",
    "    2: {3:(19, 20), 4:(10, 11)},\n",
    "    3: {4:(2, 18), 0:(1, 13)},\n",
    "    4: {}\n",
    "})\n",
    "G.init_tables(4)\n",
    "test_algorithm(\"test\", G, 4, (3, 4), (18, 18))"
   ]
  },
  {
   "cell_type": "code",
   "execution_count": null,
   "metadata": {},
   "outputs": [
    {
     "data": {
      "text/plain": [
       "1"
      ]
     },
     "execution_count": 89,
     "metadata": {},
     "output_type": "execute_result"
    }
   ],
   "source": [
    "G = Graph({\n",
    "    0: {1: (2, 18)},\n",
    "    1: {0:(1, 8), 2: (3, 18)},\n",
    "    2: {},\n",
    "})\n",
    "G.init_tables(2)\n",
    "test_algorithm(\"test\", G, 2, (1, 2), (11, 18))"
   ]
  },
  {
   "cell_type": "code",
   "execution_count": null,
   "metadata": {},
   "outputs": [
    {
     "name": "stdout",
     "output_type": "stream",
     "text": [
      "0 []\n",
      "1 [Entry: 18 2 3]\n",
      "2 [Entry: 0 None 0]\n"
     ]
    },
    {
     "data": {
      "text/plain": [
       "1"
      ]
     },
     "execution_count": 93,
     "metadata": {},
     "output_type": "execute_result"
    }
   ],
   "source": [
    "G = Graph({\n",
    "    0: {1: (2, 18)},\n",
    "    1: {0:(1, 8), 2: (3, 18)},\n",
    "    2: {},\n",
    "})\n",
    "G.init_tables(2)\n",
    "test_algorithm(\"test\", G, 2, (0, 1), (11, 18))"
   ]
  },
  {
   "cell_type": "code",
   "execution_count": null,
   "metadata": {},
   "outputs": [
    {
     "name": "stdout",
     "output_type": "stream",
     "text": [
      "FAIL\n",
      "{0: removed: {Entry: 37 1 17}, added: set(), 1: removed: set(), added: set(), 2: removed: set(), added: set()}\n",
      "{0: removed: {Entry: 37 1 17}, added: {Entry: 37 1 23}, 1: removed: set(), added: set(), 2: removed: set(), added: set()}\n",
      "{Edge(from_node=2, to_node=0, expected_delay=12, worst_case_delay=16), Edge(from_node=1, to_node=2, expected_delay=15, worst_case_delay=18), Edge(from_node=0, to_node=1, expected_delay=2, worst_case_delay=19)}\n",
      "(0, 1)\n",
      "(8, 19)\n",
      "result: \n",
      "0 []\n",
      "1 [Entry: 18 2 15]\n",
      "2 [Entry: 0 None 0]\n",
      "expected: \n",
      "0 [Entry: 37 1 23]\n",
      "1 [Entry: 18 2 15]\n",
      "2 [Entry: 0 None 0]\n",
      "old tables: \n",
      "0 [Entry: 37 1 17]\n",
      "1 [Entry: 18 2 15]\n",
      "2 [Entry: 0 None 0]\n"
     ]
    },
    {
     "data": {
      "text/plain": [
       "0"
      ]
     },
     "execution_count": 115,
     "metadata": {},
     "output_type": "execute_result"
    }
   ],
   "source": [
    "G = Graph({\n",
    "    0: {1: (2, 19)},\n",
    "    1: {2:(15, 18)},\n",
    "    2: {0: (12, 16)},\n",
    "})\n",
    "G.init_tables(2)\n",
    "test_algorithm(\"test\", G, 2, (0, 1), (8, 19))"
   ]
  }
 ],
 "metadata": {
  "kernelspec": {
   "display_name": "Python 3",
   "language": "python",
   "name": "python3"
  },
  "language_info": {
   "codemirror_mode": {
    "name": "ipython",
    "version": 3
   },
   "file_extension": ".py",
   "mimetype": "text/x-python",
   "name": "python",
   "nbconvert_exporter": "python",
   "pygments_lexer": "ipython3",
   "version": "3.11.7"
  }
 },
 "nbformat": 4,
 "nbformat_minor": 2
}
